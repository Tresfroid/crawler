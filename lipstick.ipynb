{
 "cells": [
  {
   "cell_type": "code",
   "execution_count": 1,
   "metadata": {},
   "outputs": [
    {
     "ename": "ModuleNotFoundError",
     "evalue": "No module named 'selenium'",
     "output_type": "error",
     "traceback": [
      "\u001b[1;31m---------------------------------------------------------------------------\u001b[0m",
      "\u001b[1;31mModuleNotFoundError\u001b[0m                       Traceback (most recent call last)",
      "\u001b[1;32m<ipython-input-1-cb058ba8a7ad>\u001b[0m in \u001b[0;36m<module>\u001b[1;34m()\u001b[0m\n\u001b[1;32m----> 1\u001b[1;33m \u001b[1;32mfrom\u001b[0m \u001b[0mselenium\u001b[0m \u001b[1;32mimport\u001b[0m \u001b[0mwebdriver\u001b[0m\u001b[1;33m\u001b[0m\u001b[0m\n\u001b[0m\u001b[0;32m      2\u001b[0m \u001b[1;32mfrom\u001b[0m \u001b[0mselenium\u001b[0m\u001b[1;33m.\u001b[0m\u001b[0mwebdriver\u001b[0m\u001b[1;33m.\u001b[0m\u001b[0mcommon\u001b[0m\u001b[1;33m.\u001b[0m\u001b[0mby\u001b[0m \u001b[1;32mimport\u001b[0m \u001b[0mBy\u001b[0m\u001b[1;33m\u001b[0m\u001b[0m\n\u001b[0;32m      3\u001b[0m \u001b[1;32mfrom\u001b[0m \u001b[0mselenium\u001b[0m\u001b[1;33m.\u001b[0m\u001b[0mwebdriver\u001b[0m\u001b[1;33m.\u001b[0m\u001b[0msupport\u001b[0m\u001b[1;33m.\u001b[0m\u001b[0mui\u001b[0m \u001b[1;32mimport\u001b[0m \u001b[0mWebDriverWait\u001b[0m\u001b[1;33m\u001b[0m\u001b[0m\n\u001b[0;32m      4\u001b[0m \u001b[1;32mfrom\u001b[0m \u001b[0mselenium\u001b[0m\u001b[1;33m.\u001b[0m\u001b[0mwebdriver\u001b[0m\u001b[1;33m.\u001b[0m\u001b[0msupport\u001b[0m \u001b[1;32mimport\u001b[0m \u001b[0mexpected_conditions\u001b[0m \u001b[1;32mas\u001b[0m \u001b[0mEC\u001b[0m\u001b[1;33m\u001b[0m\u001b[0m\n\u001b[0;32m      5\u001b[0m \u001b[1;32mfrom\u001b[0m \u001b[0mselenium\u001b[0m\u001b[1;33m.\u001b[0m\u001b[0mwebdriver\u001b[0m\u001b[1;33m.\u001b[0m\u001b[0mcommon\u001b[0m\u001b[1;33m.\u001b[0m\u001b[0maction_chains\u001b[0m \u001b[1;32mimport\u001b[0m \u001b[0mActionChains\u001b[0m\u001b[1;33m\u001b[0m\u001b[0m\n",
      "\u001b[1;31mModuleNotFoundError\u001b[0m: No module named 'selenium'"
     ]
    }
   ],
   "source": [
    "from selenium import webdriver\n",
    "from selenium.webdriver.common.by import By\n",
    "from selenium.webdriver.support.ui import WebDriverWait\n",
    "from selenium.webdriver.support import expected_conditions as EC\n",
    "from selenium.webdriver.common.action_chains import ActionChains\n",
    "from selenium.webdriver.common.keys import Keys\n",
    "from selenium.common.exceptions import TimeoutException\n",
    "from pyquery import PyQuery as pq\n",
    "from config import *\n",
    "import pymongo\n",
    "import re"
   ]
  },
  {
   "cell_type": "code",
   "execution_count": 46,
   "metadata": {
    "collapsed": true
   },
   "outputs": [],
   "source": [
    "def search( keyword ):\n",
    "    try:\n",
    "        browser.get('https://www.jd.hk/')\n",
    "        input = wait.until(\n",
    "            EC.presence_of_element_located((By.CSS_SELECTOR,\"#key\"))\n",
    "        )\n",
    "        submit = wait.until(EC.element_to_be_clickable((By.CSS_SELECTOR,\"#search-2014 > div.form > button\")))\n",
    "        input.send_keys(keyword)#搜索 keyword  = \"口红\"\n",
    "        submit.click()\n",
    "        total = wait.until(EC.presence_of_element_located((By.CSS_SELECTOR,\"#J_bottomPage > span.p-skip > em:nth-child(1) > b\")))#总页数\n",
    "        return total.text\n",
    "    except TimeoutException:\n",
    "        return search()"
   ]
  },
  {
   "cell_type": "code",
   "execution_count": 47,
   "metadata": {
    "collapsed": true
   },
   "outputs": [],
   "source": [
    "def next_page(page_number):\n",
    "    try:\n",
    "        input = wait.until(\n",
    "            EC.presence_of_element_located((By.CSS_SELECTOR, \"#page_jump_num\"))\n",
    "        )\n",
    "        input.clear()\n",
    "        input.send_keys(page_number)\n",
    "        submit = wait.until(EC.element_to_be_clickable((By.CSS_SELECTOR, \"#page_jump_num\")))\n",
    "        submit.send_keys(Keys.ENTER)\n",
    "        wait.until(EC.text_to_be_present_in_element((By.CSS_SELECTOR,\"#J_bottomPage > span.p-num > a.curr\"),str(page_number)))\n",
    "        \n",
    "        # get the current page info\n",
    "        get_product()\n",
    "    except TimeoutException:\n",
    "        next_page(page_number)"
   ]
  },
  {
   "cell_type": "code",
   "execution_count": 48,
   "metadata": {
    "collapsed": true
   },
   "outputs": [],
   "source": [
    "def get_product():\n",
    "    try:\n",
    "        print(\"Ready to get product info:\")\n",
    "        # wait.until(EC.presence_of_element_located((By.CSS_SELECTOR,\"#goods-list .gl-warp .gl-item\")))\n",
    "        wait.until(EC.presence_of_element_located((By.CSS_SELECTOR,\"#plist > ul > li:nth-child(1)\")))\n",
    "        print(\"Page loaded successfully\")\n",
    "        html = browser.page_source\n",
    "        doc = pq(html)\n",
    "        items = doc(\".gl-item\").items()\n",
    "\n",
    "        for item in items:          \n",
    "            product = {\n",
    "                # remove J_\n",
    "                'SKU':item.find(\".price\").children().attr(\"psitemsku\")[2:],\n",
    "                # unaccessible\n",
    "                'ImageUrl': item.find(\".p-img\").children().children().attr(\"src\"),\n",
    "                'Price':item.find(\".price\").text()[2:],\n",
    "                'ProductName': re.sub(\"\\n|全球购\",\"\",re.sub(item.find(\".name-other\").text(),\"\", item.find(\".p-name\").text())),\n",
    "                'NameOther':item.find('.name-other').text(),\n",
    "                'ProductUrl': item.find('.p-name').children().attr('href'),\n",
    "                'Conduct':item.find(\".p-conduct\").text(),\n",
    "                'CommentNum':re.sub(\"\\n条评价\",\"\",item.find(\".assess\").text()),\n",
    "                'ShopName':item.find(\".p-shop-name\").text(),\n",
    "                'ShopNameUrl':item.find(\".p-shop-name-text\").attr(\"href\"),\n",
    "                'ShopChat':item.find(\".p-shop-name-icon\").attr(\"href\"),\n",
    "                'Picons':item.find('.p-icons').text()\n",
    "            }\n",
    "        \n",
    "            save_to_mongo(product)\n",
    "            # save_to_csv(product)\n",
    "    except TimeoutException:\n",
    "        return  get_product()"
   ]
  },
  {
   "cell_type": "code",
   "execution_count": 49,
   "metadata": {
    "collapsed": true
   },
   "outputs": [],
   "source": [
    "# def save_to_csv(product):\n",
    "\n",
    "#     with open(\"product.csv\",'w') as f:\n",
    "#         s=product['image']+','+product['price']+','+product['name']+','+product['product_url']+','+product['conduct']+','+product['comment_num']+','+product['shop_name'] +'\\n'\n",
    "#         try:\n",
    "#             f.write(s)\n",
    "#             print('保存到csv成功！',product)\n",
    "#         except:\n",
    "#             pass\n",
    "#数据保存到mongodb中\n",
    "def save_to_mongo(result):\n",
    "    \n",
    "    #global\n",
    "    global item_count\n",
    "    item_count += 1\n",
    "    try:\n",
    "        if db[MONGO_TABLE].insert(result):\n",
    "            print('NO:' + str(item_count) +' 插入成功', result)\n",
    "    except Exception:\n",
    "        print('NO:' + str(item_count) +' 插入失败', result)\n"
   ]
  },
  {
   "cell_type": "code",
   "execution_count": 50,
   "metadata": {},
   "outputs": [],
   "source": [
    "def main():\n",
    "    try:\n",
    "        \n",
    "        keyword = \"口红\"\n",
    "        total = int(search(keyword))\n",
    "        print('Total: ' + str(total) )\n",
    "        \n",
    "        for index in range(1,total+1):\n",
    "            next_page(index)\n",
    "#         for i in range(1,10):\n",
    "#             next_page(i)\n",
    "    except Exception:\n",
    "        print(\"出错啦\")\n",
    "    finally:\n",
    "        browser.close()\n",
    "        client.close()\n"
   ]
  },
  {
   "cell_type": "code",
   "execution_count": 51,
   "metadata": {},
   "outputs": [
    {
     "name": "stderr",
     "output_type": "stream",
     "text": [
      "C:\\Users\\Administrator\\Anaconda3\\lib\\site-packages\\ipykernel_launcher.py:11: DeprecationWarning: use options instead of chrome_options\n",
      "  # This is added back by InteractiveShellApp.init_path()\n"
     ]
    }
   ],
   "source": [
    "#View \n",
    "item_count = 0\n",
    "\n",
    "client = pymongo.MongoClient(MONGO_URL)   # 创建一个连接对象\n",
    "db = client[MONGO_DB]\n",
    "\n",
    "MONGO_TABLE = 'lipstick_demo'\n",
    "\n",
    "options=webdriver.ChromeOptions()\n",
    "options.add_argument('--ignore-certificate-errors')\n",
    "browser = webdriver.Chrome(chrome_options=options)\n",
    "wait = WebDriverWait(browser,10)"
   ]
  },
  {
   "cell_type": "code",
   "execution_count": null,
   "metadata": {},
   "outputs": [],
   "source": [
    "if __name__ == '__main__':\n",
    "    main()"
   ]
  },
  {
   "cell_type": "code",
   "execution_count": null,
   "metadata": {
    "collapsed": true
   },
   "outputs": [],
   "source": []
  }
 ],
 "metadata": {
  "kernelspec": {
   "display_name": "Python 3",
   "language": "python",
   "name": "python3"
  },
  "language_info": {
   "codemirror_mode": {
    "name": "ipython",
    "version": 3
   },
   "file_extension": ".py",
   "mimetype": "text/x-python",
   "name": "python",
   "nbconvert_exporter": "python",
   "pygments_lexer": "ipython3",
   "version": "3.7.0"
  }
 },
 "nbformat": 4,
 "nbformat_minor": 2
}
